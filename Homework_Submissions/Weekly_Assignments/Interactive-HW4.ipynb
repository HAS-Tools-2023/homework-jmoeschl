{
 "cells": [
  {
   "cell_type": "code",
   "execution_count": 71,
   "metadata": {},
   "outputs": [
    {
     "name": "stdout",
     "output_type": "stream",
     "text": [
      "c:\\Users\\jhmoe\\OneDrive\\Documents\\HAS Python\\homework-jmoeschl\\Homework_Working\n",
      "streamflow_week2.txt\n",
      "Flow meets this critera 333  times\n",
      "And has an average value of 206.54054054054055 when this is true\n",
      "Method one flow quantiles: [ 19.    56.13 147.   453.4 ]\n",
      "Method two flow quantiles: [ 19.    56.13 147.   453.4 ]\n"
     ]
    },
    {
     "data": {
      "image/png": "[encoded data removed]",
      "text/plain": [
       "<Figure size 640x480 with 1 Axes>"
      ]
     },
     "metadata": {},
     "output_type": "display_data"
    }
   ],
   "source": [
    "\n",
    "import os\n",
    "import numpy as np\n",
    "import pandas as pd\n",
    "import matplotlib.pyplot as plt\n",
    "\n",
    "filename = 'streamflow_week2.txt'\n",
    "filepath = os.path.join(filename)\n",
    "print(os.getcwd())\n",
    "print(filepath)\n",
    "\n",
    "import pandas as pd\n",
    "\n",
    "data=pd.read_table(filepath, sep = '\\t', skiprows=31,\n",
    "        names=['agency_cd', 'site_no', 'datetime', 'flow', 'code']\n",
    "        )\n",
    "\n",
    "data[[\"year\", \"month\", \"day\"]] =data[\"datetime\"].str.split(\"-\", expand=True)\n",
    "data['year'] = data['year'].astype(int)\n",
    "data['month'] = data['month'].astype(int)\n",
    "data['day'] = data['day'].astype(int)\n",
    "\n",
    "flow_data = data[['year', 'month','day', 'flow']].to_numpy()\n",
    "\n",
    "del(data)\n",
    "\n",
    "# %%\n",
    "# Count the number of values with flow(3) > 100 and month(1) ==9\n",
    "import numpy as np\n",
    "\n",
    "flow_count = np.sum((flow_data[:,3] > 100) & (flow_data[:,1]==9))\n",
    "\n",
    "criteria = (flow_data[:, 3] > 100) & (flow_data[:, 1] == 9)\n",
    "pick_data = flow_data[criteria, 3]\n",
    "flow_mean = np.nanmean(pick_data)\n",
    "\n",
    "flow_mean = np.nanmean(flow_data[(flow_data[:,3] > 100) & (flow_data[:,1]==9),3])\n",
    "\n",
    "print(\"Flow meets this critera\", flow_count, \" times\")\n",
    "print('And has an average value of', flow_mean, \"when this is true\")\n",
    "\n",
    "\n",
    "# Make a histogram of data\n",
    "# Use the linspace  funciton to create a set  of evenly spaced bins\n",
    "mybins = np.linspace(0, 1000, num=15)\n",
    "# another example using the max flow to set the upper limit for the bins\n",
    "#mybins = np.linspace(0, np.max(flow_data[:,3]), num=15) \n",
    "#Plotting the histogram\n",
    "plt.hist(flow_data[:,3], bins = mybins)\n",
    "plt.title('Streamflow')\n",
    "plt.xlabel('Flow [cfs]')\n",
    "plt.ylabel('Count')\n",
    "\n",
    "flow_quants1 = np.nanquantile(flow_data[:,3], q=[0,0.1, 0.5, 0.9])\n",
    "print('Method one flow quantiles:', flow_quants1)\n",
    "# Or computing on a colum by column basis \n",
    "flow_quants2 = np.nanquantile(flow_data, q=[0,0.1, 0.5, 0.9], axis=0)\n",
    "# and then just printing out the values for the flow column\n",
    "print('Method two flow quantiles:', flow_quants2[:,3])"
   ]
  },
  {
   "cell_type": "code",
   "execution_count": 72,
   "metadata": {},
   "outputs": [
    {
     "name": "stdout",
     "output_type": "stream",
     "text": [
      "c:\\Users\\jhmoe\\OneDrive\\Documents\\HAS Python\\homework-jmoeschl\\Homework_Working\n",
      "streamflow_week2.txt\n"
     ]
    }
   ],
   "source": [
    "import os\n",
    "import numpy as np\n",
    "import pandas as pd\n",
    "import matplotlib.pyplot as plt\n",
    "\n",
    "filename = 'streamflow_week2.txt'\n",
    "filepath = os.path.join(filename)\n",
    "print(os.getcwd())\n",
    "print(filepath)\n",
    "\n",
    "import pandas as pd\n",
    "\n",
    "data=pd.read_table(filepath, sep = '\\t', skiprows=31,\n",
    "        names=['agency_cd', 'site_no', 'datetime', 'flow', 'code']\n",
    "        )\n",
    "\n",
    "data[[\"year\", \"month\", \"day\"]] =data[\"datetime\"].str.split(\"-\", expand=True)\n",
    "data['year'] = data['year'].astype(int)\n",
    "data['month'] = data['month'].astype(int)\n",
    "data['day'] = data['day'].astype(int)\n",
    "\n",
    "flow_data = data[['year', 'month','day', 'flow']].to_numpy()\n",
    "\n",
    "np.size(flow_data)\n",
    "\n",
    "\n",
    "del(data)"
   ]
  },
  {
   "cell_type": "code",
   "execution_count": 73,
   "metadata": {},
   "outputs": [
    {
     "name": "stdout",
     "output_type": "stream",
     "text": [
      "c:\\Users\\jhmoe\\OneDrive\\Documents\\HAS Python\\homework-jmoeschl\\Homework_Working\n",
      "streamflow_week2.txt\n",
      "34572\n"
     ]
    }
   ],
   "source": [
    "import os\n",
    "import numpy as np\n",
    "import pandas as pd\n",
    "import matplotlib.pyplot as plt\n",
    "\n",
    "filename = 'streamflow_week2.txt'\n",
    "filepath = os.path.join(filename)\n",
    "print(os.getcwd())\n",
    "print(filepath)\n",
    "\n",
    "import pandas as pd\n",
    "\n",
    "data=pd.read_table(filepath, sep = '\\t', skiprows=31,\n",
    "        names=['agency_cd', 'site_no', 'datetime', 'flow', 'code']\n",
    "        )\n",
    "\n",
    "data[[\"year\", \"month\", \"day\"]] =data[\"datetime\"].str.split(\"-\", expand=True)\n",
    "data['year'] = data['year'].astype(int)\n",
    "data['month'] = data['month'].astype(int)\n",
    "data['day'] = data['day'].astype(int)\n",
    "\n",
    "flow_data = data[['year', 'month','day', 'flow']].to_numpy()\n",
    "\n",
    "print(np.size(flow_data))\n",
    "\n",
    "\n",
    "del(data)"
   ]
  },
  {
   "cell_type": "code",
   "execution_count": 74,
   "metadata": {},
   "outputs": [
    {
     "name": "stdout",
     "output_type": "stream",
     "text": [
      "c:\\Users\\jhmoe\\OneDrive\\Documents\\HAS Python\\homework-jmoeschl\\Homework_Working\n",
      "streamflow_week2.txt\n",
      "34572\n",
      "(8643, 4)\n"
     ]
    }
   ],
   "source": [
    "import os\n",
    "import numpy as np\n",
    "import pandas as pd\n",
    "import matplotlib.pyplot as plt\n",
    "\n",
    "filename = 'streamflow_week2.txt'\n",
    "filepath = os.path.join(filename)\n",
    "print(os.getcwd())\n",
    "print(filepath)\n",
    "\n",
    "import pandas as pd\n",
    "\n",
    "data=pd.read_table(filepath, sep = '\\t', skiprows=31,\n",
    "        names=['agency_cd', 'site_no', 'datetime', 'flow', 'code']\n",
    "        )\n",
    "\n",
    "data[[\"year\", \"month\", \"day\"]] =data[\"datetime\"].str.split(\"-\", expand=True)\n",
    "data['year'] = data['year'].astype(int)\n",
    "data['month'] = data['month'].astype(int)\n",
    "data['day'] = data['day'].astype(int)\n",
    "\n",
    "flow_data = data[['year', 'month','day', 'flow']].to_numpy()\n",
    "\n",
    "print(np.size(flow_data))\n",
    "print(np.shape(flow_data))\n",
    "\n",
    "\n",
    "del(data)"
   ]
  },
  {
   "cell_type": "code",
   "execution_count": 75,
   "metadata": {},
   "outputs": [
    {
     "name": "stdout",
     "output_type": "stream",
     "text": [
      "c:\\Users\\jhmoe\\OneDrive\\Documents\\HAS Python\\homework-jmoeschl\\Homework_Working\n",
      "streamflow_week2.txt\n",
      "34572\n",
      "(8643, 4)\n",
      "2\n"
     ]
    }
   ],
   "source": [
    "import os\n",
    "import numpy as np\n",
    "import pandas as pd\n",
    "import matplotlib.pyplot as plt\n",
    "\n",
    "filename = 'streamflow_week2.txt'\n",
    "filepath = os.path.join(filename)\n",
    "print(os.getcwd())\n",
    "print(filepath)\n",
    "\n",
    "import pandas as pd\n",
    "\n",
    "data=pd.read_table(filepath, sep = '\\t', skiprows=31,\n",
    "        names=['agency_cd', 'site_no', 'datetime', 'flow', 'code']\n",
    "        )\n",
    "\n",
    "data[[\"year\", \"month\", \"day\"]] =data[\"datetime\"].str.split(\"-\", expand=True)\n",
    "data['year'] = data['year'].astype(int)\n",
    "data['month'] = data['month'].astype(int)\n",
    "data['day'] = data['day'].astype(int)\n",
    "\n",
    "flow_data = data[['year', 'month','day', 'flow']].to_numpy()\n",
    "\n",
    "print(np.size(flow_data))\n",
    "print(np.shape(flow_data))\n",
    "print(np.ndim(flow_data))\n",
    "\n",
    "del(data)"
   ]
  },
  {
   "cell_type": "code",
   "execution_count": 76,
   "metadata": {},
   "outputs": [
    {
     "name": "stdout",
     "output_type": "stream",
     "text": [
      "c:\\Users\\jhmoe\\OneDrive\\Documents\\HAS Python\\homework-jmoeschl\\Homework_Working\n",
      "streamflow_week2.txt\n",
      "34572\n",
      "(8643, 4)\n",
      "2\n"
     ]
    }
   ],
   "source": [
    "import os\n",
    "import numpy as np\n",
    "import pandas as pd\n",
    "import matplotlib.pyplot as plt\n",
    "\n",
    "filename = 'streamflow_week2.txt'\n",
    "filepath = os.path.join(filename)\n",
    "print(os.getcwd())\n",
    "print(filepath)\n",
    "\n",
    "import pandas as pd\n",
    "\n",
    "data=pd.read_table(filepath, sep = '\\t', skiprows=31,\n",
    "        names=['agency_cd', 'site_no', 'datetime', 'flow', 'code']\n",
    "        )\n",
    "\n",
    "data[[\"year\", \"month\", \"day\"]] =data[\"datetime\"].str.split(\"-\", expand=True)\n",
    "data['year'] = data['year'].astype(int)\n",
    "data['month'] = data['month'].astype(int)\n",
    "data['day'] = data['day'].astype(int)\n",
    "\n",
    "flow_data = data[['year', 'month','day', 'flow']].to_numpy()\n",
    "\n",
    "print(np.size(flow_data))\n",
    "print(np.shape(flow_data))\n",
    "print(np.ndim(flow_data))\n",
    "\n",
    "del(data)"
   ]
  },
  {
   "cell_type": "code",
   "execution_count": 77,
   "metadata": {},
   "outputs": [
    {
     "name": "stdout",
     "output_type": "stream",
     "text": [
      "Flow meets this critera 333  times\n",
      "And has an average value of 206.54054054054055 when this is true\n",
      "Method one flow quantiles: [ 19.    56.13 147.   453.4 ]\n",
      "Method two flow quantiles: [ 19.    56.13 147.   453.4 ]\n"
     ]
    },
    {
     "data": {
      "image/png": "[encoded data removed]",
      "text/plain": [
       "<Figure size 640x480 with 1 Axes>"
      ]
     },
     "metadata": {},
     "output_type": "display_data"
    }
   ],
   "source": [
    "# Count the number of values with flow(3) > 100 and month(1) ==9\n",
    "import numpy as np\n",
    "\n",
    "flow_count = np.sum((flow_data[:,3] > 100) & (flow_data[:,1]==9))\n",
    "\n",
    "criteria = (flow_data[:, 3] > 100) & (flow_data[:, 1] == 9)\n",
    "pick_data = flow_data[criteria, 3]\n",
    "flow_mean = np.nanmean(pick_data)\n",
    "\n",
    "flow_mean = np.nanmean(flow_data[(flow_data[:,3] > 100) & (flow_data[:,1]==9),3])\n",
    "\n",
    "print(\"Flow meets this critera\", flow_count, \" times\")\n",
    "print('And has an average value of', flow_mean, \"when this is true\")\n",
    "\n",
    "\n",
    "# Make a histogram of data\n",
    "# Use the linspace  funciton to create a set  of evenly spaced bins\n",
    "mybins = np.linspace(0, 1000, num=15)\n",
    "# another example using the max flow to set the upper limit for the bins\n",
    "#mybins = np.linspace(0, np.max(flow_data[:,3]), num=15) \n",
    "#Plotting the histogram\n",
    "plt.hist(flow_data[:,3], bins = mybins)\n",
    "plt.title('Streamflow')\n",
    "plt.xlabel('Flow [cfs]')\n",
    "plt.ylabel('Count')\n",
    "\n",
    "flow_quants1 = np.nanquantile(flow_data[:,3], q=[0,0.1, 0.5, 0.9])\n",
    "print('Method one flow quantiles:', flow_quants1)\n",
    "# Or computing on a colum by column basis \n",
    "flow_quants2 = np.nanquantile(flow_data, q=[0,0.1, 0.5, 0.9], axis=0)\n",
    "# and then just printing out the values for the flow column\n",
    "print('Method two flow quantiles:', flow_quants2[:,3])"
   ]
  },
  {
   "cell_type": "code",
   "execution_count": 78,
   "metadata": {},
   "outputs": [
    {
     "name": "stdout",
     "output_type": "stream",
     "text": [
      "c:\\Users\\jhmoe\\OneDrive\\Documents\\HAS Python\\homework-jmoeschl\\Homework_Working\n",
      "streamflow_week2.txt\n",
      "34572\n",
      "(8643, 4)\n",
      "2\n"
     ]
    }
   ],
   "source": [
    "import os\n",
    "import numpy as np\n",
    "import pandas as pd\n",
    "import matplotlib.pyplot as plt\n",
    "\n",
    "filename = 'streamflow_week2.txt'\n",
    "filepath = os.path.join(filename)\n",
    "print(os.getcwd())\n",
    "print(filepath)\n",
    "\n",
    "import pandas as pd\n",
    "\n",
    "data=pd.read_table(filepath, sep = '\\t', skiprows=31,\n",
    "        names=['agency_cd', 'site_no', 'datetime', 'flow', 'code']\n",
    "        )\n",
    "\n",
    "data[[\"year\", \"month\", \"day\"]] =data[\"datetime\"].str.split(\"-\", expand=True)\n",
    "data['year'] = data['year'].astype(int)\n",
    "data['month'] = data['month'].astype(int)\n",
    "data['day'] = data['day'].astype(int)\n",
    "\n",
    "flow_data = data[['year', 'month','day', 'flow']].to_numpy()\n",
    "\n",
    "print(np.size(flow_data))\n",
    "print(np.shape(flow_data))\n",
    "print(np.ndim(flow_data))\n",
    "\n",
    "del(data)"
   ]
  },
  {
   "cell_type": "code",
   "execution_count": 79,
   "metadata": {},
   "outputs": [
    {
     "name": "stdout",
     "output_type": "stream",
     "text": [
      "Flow meets this critera 353  times\n",
      "And has an average value of 78.2915014164306 when this is true\n",
      "Method one flow quantiles: [ 19.    56.13 147.   453.4 ]\n",
      "Method two flow quantiles: [ 19.    56.13 147.   453.4 ]\n"
     ]
    },
    {
     "data": {
      "image/png": "[encoded data removed]",
      "text/plain": [
       "<Figure size 640x480 with 1 Axes>"
      ]
     },
     "metadata": {},
     "output_type": "display_data"
    }
   ],
   "source": [
    "# Count the number of values with flow(3) > 100 and month(1) ==9\n",
    "import numpy as np\n",
    "\n",
    "flow_count = np.sum((flow_data[:,3] < 100) & (flow_data[:,1]==9))\n",
    "\n",
    "criteria = (flow_data[:, 3] < 100) & (flow_data[:, 1] == 9)\n",
    "pick_data = flow_data[criteria, 3]\n",
    "flow_mean = np.nanmean(pick_data)\n",
    "\n",
    "flow_mean = np.nanmean(flow_data[(flow_data[:,3] < 100) & (flow_data[:,1]==9),3])\n",
    "\n",
    "print(\"Flow meets this critera\", flow_count, \" times\")\n",
    "print('And has an average value of', flow_mean, \"when this is true\")\n",
    "\n",
    "\n",
    "# Make a histogram of data\n",
    "# Use the linspace  funciton to create a set  of evenly spaced bins\n",
    "mybins = np.linspace(0, 1000, num=15)\n",
    "# another example using the max flow to set the upper limit for the bins\n",
    "#mybins = np.linspace(0, np.max(flow_data[:,3]), num=15) \n",
    "#Plotting the histogram\n",
    "plt.hist(flow_data[:,3], bins = mybins)\n",
    "plt.title('Streamflow')\n",
    "plt.xlabel('Flow [cfs]')\n",
    "plt.ylabel('Count')\n",
    "\n",
    "flow_quants1 = np.nanquantile(flow_data[:,3], q=[0,0.1, 0.5, 0.9])\n",
    "print('Method one flow quantiles:', flow_quants1)\n",
    "# Or computing on a colum by column basis \n",
    "flow_quants2 = np.nanquantile(flow_data, q=[0,0.1, 0.5, 0.9], axis=0)\n",
    "# and then just printing out the values for the flow column\n",
    "print('Method two flow quantiles:', flow_quants2[:,3])"
   ]
  },
  {
   "cell_type": "code",
   "execution_count": 80,
   "metadata": {},
   "outputs": [
    {
     "name": "stdout",
     "output_type": "stream",
     "text": [
      "c:\\Users\\jhmoe\\OneDrive\\Documents\\HAS Python\\homework-jmoeschl\\Homework_Working\n",
      "streamflow_week2.txt\n",
      "34572\n",
      "(8643, 4)\n",
      "2\n"
     ]
    }
   ],
   "source": [
    "import os\n",
    "import numpy as np\n",
    "import pandas as pd\n",
    "import matplotlib.pyplot as plt\n",
    "\n",
    "filename = 'streamflow_week2.txt'\n",
    "filepath = os.path.join(filename)\n",
    "print(os.getcwd())\n",
    "print(filepath)\n",
    "\n",
    "import pandas as pd\n",
    "\n",
    "data=pd.read_table(filepath, sep = '\\t', skiprows=31,\n",
    "        names=['agency_cd', 'site_no', 'datetime', 'flow', 'code']\n",
    "        )\n",
    "\n",
    "data[[\"year\", \"month\", \"day\"]] =data[\"datetime\"].str.split(\"-\", expand=True)\n",
    "data['year'] = data['year'].astype(int)\n",
    "data['month'] = data['month'].astype(int)\n",
    "data['day'] = data['day'].astype(int)\n",
    "\n",
    "flow_data = data[['year', 'month','day', 'flow']].to_numpy()\n",
    "\n",
    "print(np.size(flow_data))\n",
    "print(np.shape(flow_data))\n",
    "print(np.ndim(flow_data))\n",
    "\n",
    "del(data)"
   ]
  },
  {
   "cell_type": "code",
   "execution_count": 81,
   "metadata": {},
   "outputs": [
    {
     "name": "stdout",
     "output_type": "stream",
     "text": [
      "Flow meets this critera 204  times\n",
      "And has an average value of 176.72058823529412 when this is true\n",
      "Method one flow quantiles: [ 19.    56.13 147.   453.4 ]\n",
      "Method two flow quantiles: [ 19.    56.13 147.   453.4 ]\n"
     ]
    },
    {
     "data": {
      "image/png": "[encoded data removed]",
      "text/plain": [
       "<Figure size 640x480 with 1 Axes>"
      ]
     },
     "metadata": {},
     "output_type": "display_data"
    }
   ],
   "source": [
    "# Count the number of values with flow(3) > 100 and month(1) ==9\n",
    "import numpy as np\n",
    "\n",
    "flow_count = np.sum((flow_data[:,3] > 100) & (flow_data[:,1]==9) & (flow_data[:,0] >= 2010))\n",
    "\n",
    "criteria = (flow_data[:, 3] > 100) & (flow_data[:, 1] == 9) & (flow_data[:,0] >= 2010)\n",
    "pick_data = flow_data[criteria, 3]\n",
    "flow_mean = np.nanmean(pick_data)\n",
    "\n",
    "flow_mean = np.nanmean(flow_data[(flow_data[:,3] > 100) & (flow_data[:,1]==9) & (flow_data[:,0] >= 2010),3])\n",
    "\n",
    "print(\"Flow meets this critera\", flow_count, \" times\")\n",
    "print('And has an average value of', flow_mean, \"when this is true\")\n",
    "\n",
    "\n",
    "# Make a histogram of data\n",
    "# Use the linspace  funciton to create a set  of evenly spaced bins\n",
    "mybins = np.linspace(0, 1000, num=15)\n",
    "# another example using the max flow to set the upper limit for the bins\n",
    "#mybins = np.linspace(0, np.max(flow_data[:,3]), num=15) \n",
    "#Plotting the histogram\n",
    "plt.hist(flow_data[:,3], bins = mybins)\n",
    "plt.title('Streamflow')\n",
    "plt.xlabel('Flow [cfs]')\n",
    "plt.ylabel('Count')\n",
    "\n",
    "flow_quants1 = np.nanquantile(flow_data[:,3], q=[0,0.1, 0.5, 0.9])\n",
    "print('Method one flow quantiles:', flow_quants1)\n",
    "# Or computing on a colum by column basis \n",
    "flow_quants2 = np.nanquantile(flow_data, q=[0,0.1, 0.5, 0.9], axis=0)\n",
    "# and then just printing out the values for the flow column\n",
    "print('Method two flow quantiles:', flow_quants2[:,3])"
   ]
  },
  {
   "cell_type": "code",
   "execution_count": 82,
   "metadata": {},
   "outputs": [
    {
     "name": "stdout",
     "output_type": "stream",
     "text": [
      "c:\\Users\\jhmoe\\OneDrive\\Documents\\HAS Python\\homework-jmoeschl\\Homework_Working\n",
      "streamflow_week2.txt\n",
      "34572\n",
      "(8643, 4)\n",
      "2\n"
     ]
    }
   ],
   "source": [
    "import os\n",
    "import numpy as np\n",
    "import pandas as pd\n",
    "import matplotlib.pyplot as plt\n",
    "\n",
    "filename = 'streamflow_week2.txt'\n",
    "filepath = os.path.join(filename)\n",
    "print(os.getcwd())\n",
    "print(filepath)\n",
    "\n",
    "import pandas as pd\n",
    "\n",
    "data=pd.read_table(filepath, sep = '\\t', skiprows=31,\n",
    "        names=['agency_cd', 'site_no', 'datetime', 'flow', 'code']\n",
    "        )\n",
    "\n",
    "data[[\"year\", \"month\", \"day\"]] =data[\"datetime\"].str.split(\"-\", expand=True)\n",
    "data['year'] = data['year'].astype(int)\n",
    "data['month'] = data['month'].astype(int)\n",
    "data['day'] = data['day'].astype(int)\n",
    "\n",
    "flow_data = data[['year', 'month','day', 'flow']].to_numpy()\n",
    "\n",
    "print(np.size(flow_data))\n",
    "print(np.shape(flow_data))\n",
    "print(np.ndim(flow_data))\n",
    "\n",
    "del(data)"
   ]
  },
  {
   "cell_type": "code",
   "execution_count": 83,
   "metadata": {},
   "outputs": [
    {
     "name": "stdout",
     "output_type": "stream",
     "text": [
      "Flow meets this critera 186  times\n",
      "And has an average value of 75.97096774193548 when this is true\n",
      "Method one flow quantiles: [ 19.    56.13 147.   453.4 ]\n",
      "Method two flow quantiles: [ 19.    56.13 147.   453.4 ]\n"
     ]
    },
    {
     "data": {
      "image/png": "[encoded data removed]",
      "text/plain": [
       "<Figure size 640x480 with 1 Axes>"
      ]
     },
     "metadata": {},
     "output_type": "display_data"
    }
   ],
   "source": [
    "# Count the number of values with flow(3) > 100 and month(1) ==9\n",
    "import numpy as np\n",
    "\n",
    "flow_count = np.sum((flow_data[:,3] < 100) & (flow_data[:,1]==9) & (flow_data[:,0] >= 2010))\n",
    "\n",
    "criteria = (flow_data[:, 3] < 100) & (flow_data[:, 1] == 9) & (flow_data[:,0] >= 2010)\n",
    "pick_data = flow_data[criteria, 3]\n",
    "flow_mean = np.nanmean(pick_data)\n",
    "\n",
    "flow_mean = np.nanmean(flow_data[(flow_data[:,3] < 100) & (flow_data[:,1]==9) & (flow_data[:,0] >= 2010),3])\n",
    "\n",
    "print(\"Flow meets this critera\", flow_count, \" times\")\n",
    "print('And has an average value of', flow_mean, \"when this is true\")\n",
    "\n",
    "\n",
    "# Make a histogram of data\n",
    "# Use the linspace  funciton to create a set  of evenly spaced bins\n",
    "mybins = np.linspace(0, 1000, num=15)\n",
    "# another example using the max flow to set the upper limit for the bins\n",
    "#mybins = np.linspace(0, np.max(flow_data[:,3]), num=15) \n",
    "#Plotting the histogram\n",
    "plt.hist(flow_data[:,3], bins = mybins)\n",
    "plt.title('Streamflow')\n",
    "plt.xlabel('Flow [cfs]')\n",
    "plt.ylabel('Count')\n",
    "\n",
    "flow_quants1 = np.nanquantile(flow_data[:,3], q=[0,0.1, 0.5, 0.9])\n",
    "print('Method one flow quantiles:', flow_quants1)\n",
    "# Or computing on a colum by column basis \n",
    "flow_quants2 = np.nanquantile(flow_data, q=[0,0.1, 0.5, 0.9], axis=0)\n",
    "# and then just printing out the values for the flow column\n",
    "print('Method two flow quantiles:', flow_quants2[:,3])"
   ]
  },
  {
   "cell_type": "code",
   "execution_count": 84,
   "metadata": {},
   "outputs": [
    {
     "name": "stdout",
     "output_type": "stream",
     "text": [
      "c:\\Users\\jhmoe\\OneDrive\\Documents\\HAS Python\\homework-jmoeschl\\Homework_Working\n",
      "streamflow_week2.txt\n",
      "34572\n",
      "(8643, 4)\n",
      "2\n"
     ]
    }
   ],
   "source": [
    "import os\n",
    "import numpy as np\n",
    "import pandas as pd\n",
    "import matplotlib.pyplot as plt\n",
    "\n",
    "filename = 'streamflow_week2.txt'\n",
    "filepath = os.path.join(filename)\n",
    "print(os.getcwd())\n",
    "print(filepath)\n",
    "\n",
    "import pandas as pd\n",
    "\n",
    "data=pd.read_table(filepath, sep = '\\t', skiprows=31,\n",
    "        names=['agency_cd', 'site_no', 'datetime', 'flow', 'code']\n",
    "        )\n",
    "\n",
    "data[[\"year\", \"month\", \"day\"]] =data[\"datetime\"].str.split(\"-\", expand=True)\n",
    "data['year'] = data['year'].astype(int)\n",
    "data['month'] = data['month'].astype(int)\n",
    "data['day'] = data['day'].astype(int)\n",
    "\n",
    "flow_data = data[['year', 'month','day', 'flow']].to_numpy()\n",
    "\n",
    "print(np.size(flow_data))\n",
    "print(np.shape(flow_data))\n",
    "print(np.ndim(flow_data))\n",
    "\n",
    "del(data)"
   ]
  },
  {
   "cell_type": "code",
   "execution_count": 85,
   "metadata": {},
   "outputs": [
    {
     "name": "stdout",
     "output_type": "stream",
     "text": [
      "Flow meets this critera 194  times\n",
      "And has an average value of 82.21855670103093 when this is true\n",
      "Method one flow quantiles: [ 19.    56.13 147.   453.4 ]\n",
      "Method two flow quantiles: [ 19.    56.13 147.   453.4 ]\n"
     ]
    },
    {
     "data": {
      "image/png": "[encoded data removed]",
      "text/plain": [
       "<Figure size 640x480 with 1 Axes>"
      ]
     },
     "metadata": {},
     "output_type": "display_data"
    }
   ],
   "source": [
    "# Count the number of values with flow(3) > 100 and month(1) ==9\n",
    "import numpy as np\n",
    "\n",
    "flow_count = np.sum((flow_data[:,3] < 100) & (flow_data[:,1]==9) & (flow_data[:,2] > 15))\n",
    "\n",
    "criteria = (flow_data[:, 3] < 100) & (flow_data[:, 1] == 9) & (flow_data[:,2] > 15)\n",
    "pick_data = flow_data[criteria, 3]\n",
    "flow_mean = np.nanmean(pick_data)\n",
    "\n",
    "flow_mean = np.nanmean(flow_data[(flow_data[:,3] < 100) & (flow_data[:,1]==9) & (flow_data[:,2] > 15),3])\n",
    "\n",
    "print(\"Flow meets this critera\", flow_count, \" times\")\n",
    "print('And has an average value of', flow_mean, \"when this is true\")\n",
    "\n",
    "\n",
    "# Make a histogram of data\n",
    "# Use the linspace  funciton to create a set  of evenly spaced bins\n",
    "mybins = np.linspace(0, 1000, num=15)\n",
    "# another example using the max flow to set the upper limit for the bins\n",
    "#mybins = np.linspace(0, np.max(flow_data[:,3]), num=15) \n",
    "#Plotting the histogram\n",
    "plt.hist(flow_data[:,3], bins = mybins)\n",
    "plt.title('Streamflow')\n",
    "plt.xlabel('Flow [cfs]')\n",
    "plt.ylabel('Count')\n",
    "\n",
    "flow_quants1 = np.nanquantile(flow_data[:,3], q=[0,0.1, 0.5, 0.9])\n",
    "print('Method one flow quantiles:', flow_quants1)\n",
    "# Or computing on a colum by column basis \n",
    "flow_quants2 = np.nanquantile(flow_data, q=[0,0.1, 0.5, 0.9], axis=0)\n",
    "# and then just printing out the values for the flow column\n",
    "print('Method two flow quantiles:', flow_quants2[:,3])"
   ]
  },
  {
   "cell_type": "code",
   "execution_count": 86,
   "metadata": {},
   "outputs": [
    {
     "name": "stdout",
     "output_type": "stream",
     "text": [
      "c:\\Users\\jhmoe\\OneDrive\\Documents\\HAS Python\\homework-jmoeschl\\Homework_Working\n",
      "streamflow_week2.txt\n",
      "34572\n",
      "(8643, 4)\n",
      "2\n"
     ]
    }
   ],
   "source": [
    "import os\n",
    "import numpy as np\n",
    "import pandas as pd\n",
    "import matplotlib.pyplot as plt\n",
    "\n",
    "filename = 'streamflow_week2.txt'\n",
    "filepath = os.path.join(filename)\n",
    "print(os.getcwd())\n",
    "print(filepath)\n",
    "\n",
    "import pandas as pd\n",
    "\n",
    "data=pd.read_table(filepath, sep = '\\t', skiprows=31,\n",
    "        names=['agency_cd', 'site_no', 'datetime', 'flow', 'code']\n",
    "        )\n",
    "\n",
    "data[[\"year\", \"month\", \"day\"]] =data[\"datetime\"].str.split(\"-\", expand=True)\n",
    "data['year'] = data['year'].astype(int)\n",
    "data['month'] = data['month'].astype(int)\n",
    "data['day'] = data['day'].astype(int)\n",
    "\n",
    "flow_data = data[['year', 'month','day', 'flow']].to_numpy()\n",
    "\n",
    "print(np.size(flow_data))\n",
    "print(np.shape(flow_data))\n",
    "print(np.ndim(flow_data))\n",
    "\n",
    "del(data)"
   ]
  },
  {
   "cell_type": "code",
   "execution_count": 87,
   "metadata": {},
   "outputs": [
    {
     "name": "stdout",
     "output_type": "stream",
     "text": [
      "Flow meets this critera 149  times\n",
      "And has an average value of 73.43825503355704 when this is true\n",
      "Method one flow quantiles: [ 19.    56.13 147.   453.4 ]\n",
      "Method two flow quantiles: [ 19.    56.13 147.   453.4 ]\n"
     ]
    },
    {
     "data": {
      "image/png": "[encoded data removed]",
      "text/plain": [
       "<Figure size 640x480 with 1 Axes>"
      ]
     },
     "metadata": {},
     "output_type": "display_data"
    }
   ],
   "source": [
    "# Count the number of values with flow(3) > 100 and month(1) ==9\n",
    "import numpy as np\n",
    "\n",
    "flow_count = np.sum((flow_data[:,3] < 100) & (flow_data[:,1]==9) & (flow_data[:,2] < 15))\n",
    "\n",
    "criteria = (flow_data[:, 3] < 100) & (flow_data[:, 1] == 9) & (flow_data[:,2] < 15)\n",
    "pick_data = flow_data[criteria, 3]\n",
    "flow_mean = np.nanmean(pick_data)\n",
    "\n",
    "flow_mean = np.nanmean(flow_data[(flow_data[:,3] < 100) & (flow_data[:,1]==9) & (flow_data[:,2] < 15),3])\n",
    "\n",
    "print(\"Flow meets this critera\", flow_count, \" times\")\n",
    "print('And has an average value of', flow_mean, \"when this is true\")\n",
    "\n",
    "\n",
    "# Make a histogram of data\n",
    "# Use the linspace  funciton to create a set  of evenly spaced bins\n",
    "mybins = np.linspace(0, 1000, num=15)\n",
    "# another example using the max flow to set the upper limit for the bins\n",
    "#mybins = np.linspace(0, np.max(flow_data[:,3]), num=15) \n",
    "#Plotting the histogram\n",
    "plt.hist(flow_data[:,3], bins = mybins)\n",
    "plt.title('Streamflow')\n",
    "plt.xlabel('Flow [cfs]')\n",
    "plt.ylabel('Count')\n",
    "\n",
    "flow_quants1 = np.nanquantile(flow_data[:,3], q=[0,0.1, 0.5, 0.9])\n",
    "print('Method one flow quantiles:', flow_quants1)\n",
    "# Or computing on a colum by column basis \n",
    "flow_quants2 = np.nanquantile(flow_data, q=[0,0.1, 0.5, 0.9], axis=0)\n",
    "# and then just printing out the values for the flow column\n",
    "print('Method two flow quantiles:', flow_quants2[:,3])"
   ]
  },
  {
   "cell_type": "code",
   "execution_count": 88,
   "metadata": {},
   "outputs": [
    {
     "name": "stdout",
     "output_type": "stream",
     "text": [
      "c:\\Users\\jhmoe\\OneDrive\\Documents\\HAS Python\\homework-jmoeschl\\Homework_Working\n",
      "streamflow_week2.txt\n",
      "34572\n",
      "(8643, 4)\n",
      "2\n"
     ]
    }
   ],
   "source": [
    "import os\n",
    "import numpy as np\n",
    "import pandas as pd\n",
    "import matplotlib.pyplot as plt\n",
    "\n",
    "filename = 'streamflow_week2.txt'\n",
    "filepath = os.path.join(filename)\n",
    "print(os.getcwd())\n",
    "print(filepath)\n",
    "\n",
    "import pandas as pd\n",
    "\n",
    "data=pd.read_table(filepath, sep = '\\t', skiprows=31,\n",
    "        names=['agency_cd', 'site_no', 'datetime', 'flow', 'code']\n",
    "        )\n",
    "\n",
    "data[[\"year\", \"month\", \"day\"]] =data[\"datetime\"].str.split(\"-\", expand=True)\n",
    "data['year'] = data['year'].astype(int)\n",
    "data['month'] = data['month'].astype(int)\n",
    "data['day'] = data['day'].astype(int)\n",
    "\n",
    "flow_data = data[['year', 'month','day', 'flow']].to_numpy()\n",
    "\n",
    "print(np.size(flow_data))\n",
    "print(np.shape(flow_data))\n",
    "print(np.ndim(flow_data))\n",
    "\n",
    "del(data)"
   ]
  },
  {
   "cell_type": "code",
   "execution_count": 89,
   "metadata": {},
   "outputs": [
    {
     "name": "stdout",
     "output_type": "stream",
     "text": [
      "Flow meets this critera 172  times\n",
      "And has an average value of 215.61627906976744 when this is true\n",
      "Method one flow quantiles: [ 19.    56.13 147.   453.4 ]\n",
      "Method two flow quantiles: [ 19.    56.13 147.   453.4 ]\n"
     ]
    },
    {
     "data": {
      "image/png": "[encoded data removed]",
      "text/plain": [
       "<Figure size 640x480 with 1 Axes>"
      ]
     },
     "metadata": {},
     "output_type": "display_data"
    }
   ],
   "source": [
    "# Count the number of values with flow(3) > 100 and month(1) ==9\n",
    "import numpy as np\n",
    "\n",
    "flow_count = np.sum((flow_data[:,3] > 100) & (flow_data[:,1]==9) & (flow_data[:,2] < 15))\n",
    "\n",
    "criteria = (flow_data[:, 3] > 100) & (flow_data[:, 1] == 9) & (flow_data[:,2] < 15)\n",
    "pick_data = flow_data[criteria, 3]\n",
    "flow_mean = np.nanmean(pick_data)\n",
    "\n",
    "flow_mean = np.nanmean(flow_data[(flow_data[:,3] > 100) & (flow_data[:,1]==9) & (flow_data[:,2] < 15),3])\n",
    "\n",
    "print(\"Flow meets this critera\", flow_count, \" times\")\n",
    "print('And has an average value of', flow_mean, \"when this is true\")\n",
    "\n",
    "\n",
    "# Make a histogram of data\n",
    "# Use the linspace  funciton to create a set  of evenly spaced bins\n",
    "mybins = np.linspace(0, 1000, num=15)\n",
    "# another example using the max flow to set the upper limit for the bins\n",
    "#mybins = np.linspace(0, np.max(flow_data[:,3]), num=15) \n",
    "#Plotting the histogram\n",
    "plt.hist(flow_data[:,3], bins = mybins)\n",
    "plt.title('Streamflow')\n",
    "plt.xlabel('Flow [cfs]')\n",
    "plt.ylabel('Count')\n",
    "\n",
    "flow_quants1 = np.nanquantile(flow_data[:,3], q=[0,0.1, 0.5, 0.9])\n",
    "print('Method one flow quantiles:', flow_quants1)\n",
    "# Or computing on a colum by column basis \n",
    "flow_quants2 = np.nanquantile(flow_data, q=[0,0.1, 0.5, 0.9], axis=0)\n",
    "# and then just printing out the values for the flow column\n",
    "print('Method two flow quantiles:', flow_quants2[:,3])"
   ]
  },
  {
   "cell_type": "code",
   "execution_count": 90,
   "metadata": {},
   "outputs": [
    {
     "name": "stdout",
     "output_type": "stream",
     "text": [
      "c:\\Users\\jhmoe\\OneDrive\\Documents\\HAS Python\\homework-jmoeschl\\Homework_Working\n",
      "streamflow_week2.txt\n",
      "34572\n",
      "(8643, 4)\n",
      "2\n"
     ]
    }
   ],
   "source": [
    "import os\n",
    "import numpy as np\n",
    "import pandas as pd\n",
    "import matplotlib.pyplot as plt\n",
    "\n",
    "filename = 'streamflow_week2.txt'\n",
    "filepath = os.path.join(filename)\n",
    "print(os.getcwd())\n",
    "print(filepath)\n",
    "\n",
    "import pandas as pd\n",
    "\n",
    "data=pd.read_table(filepath, sep = '\\t', skiprows=31,\n",
    "        names=['agency_cd', 'site_no', 'datetime', 'flow', 'code']\n",
    "        )\n",
    "\n",
    "data[[\"year\", \"month\", \"day\"]] =data[\"datetime\"].str.split(\"-\", expand=True)\n",
    "data['year'] = data['year'].astype(int)\n",
    "data['month'] = data['month'].astype(int)\n",
    "data['day'] = data['day'].astype(int)\n",
    "\n",
    "flow_data = data[['year', 'month','day', 'flow']].to_numpy()\n",
    "\n",
    "print(np.size(flow_data))\n",
    "print(np.shape(flow_data))\n",
    "print(np.ndim(flow_data))\n",
    "\n",
    "del(data)"
   ]
  },
  {
   "cell_type": "code",
   "execution_count": 91,
   "metadata": {},
   "outputs": [
    {
     "name": "stdout",
     "output_type": "stream",
     "text": [
      "Flow meets this critera 148  times\n",
      "And has an average value of 199.21621621621622 when this is true\n",
      "Method one flow quantiles: [ 19.    56.13 147.   453.4 ]\n",
      "Method two flow quantiles: [ 19.    56.13 147.   453.4 ]\n"
     ]
    },
    {
     "data": {
      "image/png": "[encoded data removed]",
      "text/plain": [
       "<Figure size 640x480 with 1 Axes>"
      ]
     },
     "metadata": {},
     "output_type": "display_data"
    }
   ],
   "source": [
    "# Count the number of values with flow(3) > 100 and month(1) ==9\n",
    "import numpy as np\n",
    "\n",
    "flow_count = np.sum((flow_data[:,3] > 100) & (flow_data[:,1]==9) & (flow_data[:,2] > 15))\n",
    "\n",
    "criteria = (flow_data[:, 3] > 100) & (flow_data[:, 1] == 9) & (flow_data[:,2] > 15)\n",
    "pick_data = flow_data[criteria, 3]\n",
    "flow_mean = np.nanmean(pick_data)\n",
    "\n",
    "flow_mean = np.nanmean(flow_data[(flow_data[:,3] > 100) & (flow_data[:,1]==9) & (flow_data[:,2] > 15),3])\n",
    "\n",
    "print(\"Flow meets this critera\", flow_count, \" times\")\n",
    "print('And has an average value of', flow_mean, \"when this is true\")\n",
    "\n",
    "\n",
    "# Make a histogram of data\n",
    "# Use the linspace  funciton to create a set  of evenly spaced bins\n",
    "mybins = np.linspace(0, 1000, num=15)\n",
    "# another example using the max flow to set the upper limit for the bins\n",
    "#mybins = np.linspace(0, np.max(flow_data[:,3]), num=15) \n",
    "#Plotting the histogram\n",
    "plt.hist(flow_data[:,3], bins = mybins)\n",
    "plt.title('Streamflow')\n",
    "plt.xlabel('Flow [cfs]')\n",
    "plt.ylabel('Count')\n",
    "\n",
    "flow_quants1 = np.nanquantile(flow_data[:,3], q=[0,0.1, 0.5, 0.9])\n",
    "print('Method one flow quantiles:', flow_quants1)\n",
    "# Or computing on a colum by column basis \n",
    "flow_quants2 = np.nanquantile(flow_data, q=[0,0.1, 0.5, 0.9], axis=0)\n",
    "# and then just printing out the values for the flow column\n",
    "print('Method two flow quantiles:', flow_quants2[:,3])"
   ]
  },
  {
   "cell_type": "markdown",
   "metadata": {
    "isInteractiveWindowMessageCell": true
   },
   "source": [
    "No kernel connected"
   ]
  }
 ],
 "metadata": {
  "kernelspec": {
   "display_name": "hastools",
   "language": "python",
   "name": "python3"
  },
  "language_info": {
   "name": "python",
   "version": "3.8.17"
  }
 },
 "nbformat": 4,
 "nbformat_minor": 2
}
